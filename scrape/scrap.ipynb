{
 "cells": [
  {
   "cell_type": "code",
   "execution_count": 5,
   "metadata": {},
   "outputs": [],
   "source": [
    "from recipe_scrapers import scrape_me\n",
    "import json\n",
    "scraper = scrape_me(\"https://www.allrecipes.com/recipe/79301/cuban-ropa-vieja/\")"
   ]
  },
  {
   "cell_type": "code",
   "execution_count": 9,
   "metadata": {},
   "outputs": [],
   "source": [
    "with open(\"sample.json\", \"w\") as outfile:\n",
    "    json.dump({'title':scraper.title(),'desc':scraper.description(),'total_time':scraper.total_time(),'yields':scraper.yields(),'steps':scraper.instructions().split(\"\\n\"),'ingredients':scraper.ingredients(),'image':scraper.image(),'cuisine':scraper.cuisine(),'category':scraper.category()},outfile)"
   ]
  }
 ],
 "metadata": {
  "kernelspec": {
   "display_name": "Python 3",
   "language": "python",
   "name": "python3"
  },
  "language_info": {
   "codemirror_mode": {
    "name": "ipython",
    "version": 3
   },
   "file_extension": ".py",
   "mimetype": "text/x-python",
   "name": "python",
   "nbconvert_exporter": "python",
   "pygments_lexer": "ipython3",
   "version": "3.11.1"
  },
  "orig_nbformat": 4
 },
 "nbformat": 4,
 "nbformat_minor": 2
}
