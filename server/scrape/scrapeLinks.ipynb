{
 "cells": [
  {
   "cell_type": "code",
   "execution_count": 8,
   "metadata": {},
   "outputs": [],
   "source": [
    "import requests\n",
    "from bs4 import BeautifulSoup\n",
    "import time\n",
    "import re\n",
    "import csv"
   ]
  },
  {
   "cell_type": "code",
   "execution_count": 9,
   "metadata": {},
   "outputs": [],
   "source": [
    "response = requests.get(\"https://www.allrecipes.com/recipes-a-z-6735880\")\n",
    "soup_az = BeautifulSoup(response.content, 'html.parser')"
   ]
  },
  {
   "cell_type": "code",
   "execution_count": 12,
   "metadata": {},
   "outputs": [
    {
     "name": "stdout",
     "output_type": "stream",
     "text": [
      "6.3\n"
     ]
    }
   ],
   "source": [
    "link_lst=[]\n",
    "categories = soup_az.find_all(\"a\",{\"class\":\"link-list__link type--dog-bold type--dog-link\"},href=True)\n",
    "print(len(categories)/60)\n",
    "for link in categories:\n",
    "    t0 = time.time()\n",
    "    response = requests.get(link['href'])\n",
    "    soup_cat = BeautifulSoup(response.content, 'html.parser')\n",
    "    recipes = soup_cat.find_all(\"a\",href=True)\n",
    "    for link in recipes:\n",
    "        if bool(re.search('[-\\/]recipe[-\\/]', link['href'])):\n",
    "            link_lst.append(link['href'])\n",
    "    sleep= .99-(time.time()-t0)\n",
    "    if sleep < 0:\n",
    "        sleep = 0\n",
    "    time.sleep(sleep)"
   ]
  },
  {
   "cell_type": "code",
   "execution_count": 13,
   "metadata": {},
   "outputs": [],
   "source": [
    "with open('links.csv', 'w') as f:\n",
    "     \n",
    "    # using csv.writer method from CSV package\n",
    "    write = csv.writer(f)\n",
    "     \n",
    "    write.writerow(link_lst)"
   ]
  }
 ],
 "metadata": {
  "kernelspec": {
   "display_name": "Python 3",
   "language": "python",
   "name": "python3"
  },
  "language_info": {
   "codemirror_mode": {
    "name": "ipython",
    "version": 3
   },
   "file_extension": ".py",
   "mimetype": "text/x-python",
   "name": "python",
   "nbconvert_exporter": "python",
   "pygments_lexer": "ipython3",
   "version": "3.11.1"
  },
  "orig_nbformat": 4
 },
 "nbformat": 4,
 "nbformat_minor": 2
}
